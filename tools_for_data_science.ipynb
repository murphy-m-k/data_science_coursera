{
 "cells": [
  {
   "cell_type": "markdown",
   "id": "47e49649-e873-4936-99a6-7de2ad75da45",
   "metadata": {},
   "source": [
    "# My Jupyter Notebook on IBM Watson Studio"
   ]
  },
  {
   "cell_type": "markdown",
   "id": "1b412fbe-ef08-4622-b75b-ebe40841c9fe",
   "metadata": {},
   "source": [
    "**Marc K. Murphy** <br>Software Engineer"
   ]
  },
  {
   "cell_type": "markdown",
   "id": "6394203e-1d31-41f2-89c7-b19928558403",
   "metadata": {},
   "source": [
    "*I am interested in Data Science because of how it can be used to improve manufacturing and engineering design.*"
   ]
  },
  {
   "cell_type": "markdown",
   "id": "593d82c5-bd97-4cd1-a3d6-9753b673bfa1",
   "metadata": {},
   "source": [
    "### My code adds the values of 2 and 7"
   ]
  },
  {
   "cell_type": "code",
   "execution_count": 2,
   "id": "005f745f-911d-4d50-b296-cd2dd490aacc",
   "metadata": {},
   "outputs": [
    {
     "name": "stdout",
     "output_type": "stream",
     "text": [
      "9\n"
     ]
    }
   ],
   "source": [
    "print(2+7)"
   ]
  },
  {
   "cell_type": "markdown",
   "id": "0afa8537-ef42-4d75-98c9-12a7259d79b9",
   "metadata": {},
   "source": [
    "- bullet point 1\n",
    "- bullet point 2\n",
    "- bullet point 3\n",
    "\n",
    "1. Number 1 \n",
    "1. Number 2 \n",
    "1. Number 3\n",
    "\n",
    "~~Strikethrough~~"
   ]
  },
  {
   "cell_type": "code",
   "execution_count": null,
   "id": "b6bde17f-fd96-4557-991c-20171a4935e4",
   "metadata": {},
   "outputs": [],
   "source": []
  }
 ],
 "metadata": {
  "kernelspec": {
   "display_name": "Python",
   "language": "python",
   "name": "conda-env-python-py"
  },
  "language_info": {
   "codemirror_mode": {
    "name": "ipython",
    "version": 3
   },
   "file_extension": ".py",
   "mimetype": "text/x-python",
   "name": "python",
   "nbconvert_exporter": "python",
   "pygments_lexer": "ipython3",
   "version": "3.7.12"
  }
 },
 "nbformat": 4,
 "nbformat_minor": 5
}
